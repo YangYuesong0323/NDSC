{
 "cells": [
  {
   "cell_type": "code",
   "execution_count": 1,
   "metadata": {},
   "outputs": [],
   "source": [
    "import pandas as pd\n",
    "import numpy as np\n",
    "import re\n",
    "from nltk.tokenize import word_tokenize, sent_tokenize\n",
    "\n",
    "from sklearn.feature_extraction.text import TfidfVectorizer \n",
    "from sklearn.metrics import classification_report\n",
    "from sklearn import svm "
   ]
  },
  {
   "cell_type": "code",
   "execution_count": 2,
   "metadata": {},
   "outputs": [],
   "source": [
    "df=pd.read_csv(\"/Users/yuesongyang/Desktop/NDSC/train.csv\")"
   ]
  },
  {
   "cell_type": "code",
   "execution_count": 3,
   "metadata": {},
   "outputs": [
    {
     "data": {
      "text/plain": [
       "(666615, 4)"
      ]
     },
     "execution_count": 3,
     "metadata": {},
     "output_type": "execute_result"
    }
   ],
   "source": [
    "df.shape"
   ]
  },
  {
   "cell_type": "code",
   "execution_count": 4,
   "metadata": {},
   "outputs": [],
   "source": [
    "# change data type to categorical\n",
    "df['Category'] = df['Category'].astype('category')"
   ]
  },
  {
   "cell_type": "code",
   "execution_count": 5,
   "metadata": {},
   "outputs": [
    {
     "data": {
      "text/plain": [
       "itemid           int64\n",
       "title           object\n",
       "Category      category\n",
       "image_path      object\n",
       "dtype: object"
      ]
     },
     "execution_count": 5,
     "metadata": {},
     "output_type": "execute_result"
    }
   ],
   "source": [
    "df.dtypes"
   ]
  },
  {
   "cell_type": "code",
   "execution_count": null,
   "metadata": {},
   "outputs": [],
   "source": [
    "# sample some rows for training, dataset too big to train locally\n",
    "train_df=df.sample(frac=0.005)\n",
    "# sample validation data set\n",
    "test_df=df.sample(frac=0.003)"
   ]
  },
  {
   "cell_type": "markdown",
   "metadata": {},
   "source": [
    "title=df[\"title\"]\n",
    "title.head(5)"
   ]
  },
  {
   "cell_type": "markdown",
   "metadata": {},
   "source": [
    "df['tokenized'] = df['title'].apply(word_tokenize) "
   ]
  },
  {
   "cell_type": "code",
   "execution_count": null,
   "metadata": {},
   "outputs": [],
   "source": [
    "train_df.head()"
   ]
  },
  {
   "cell_type": "code",
   "execution_count": null,
   "metadata": {},
   "outputs": [],
   "source": [
    "test_df.head()"
   ]
  },
  {
   "cell_type": "code",
   "execution_count": null,
   "metadata": {},
   "outputs": [],
   "source": [
    "# count the number of labels in train set\n",
    "df.Category.unique()"
   ]
  },
  {
   "cell_type": "code",
   "execution_count": null,
   "metadata": {},
   "outputs": [],
   "source": [
    "# count the number of labels in validation set\n",
    "train_df.Category.unique()"
   ]
  },
  {
   "cell_type": "code",
   "execution_count": null,
   "metadata": {},
   "outputs": [],
   "source": [
    "# get features and labels\n",
    "train_data=train_df.title\n",
    "train_label=train_df.Category\n",
    "test_data=test_df.title\n",
    "test_label=test_df.Category"
   ]
  },
  {
   "cell_type": "code",
   "execution_count": null,
   "metadata": {},
   "outputs": [],
   "source": [
    "# Create feature vectors\n",
    "vectorizer = TfidfVectorizer(min_df=4, max_df=0.9)\n",
    "# Train the feature vectors\n",
    "train_vectors = vectorizer.fit_transform(train_data)\n",
    "# Apply model on validation data \n",
    "test_vectors = vectorizer.transform(test_data)\n",
    "\n",
    "# Perform classification with SVM, kernel=linear \n",
    "model = svm.SVC(kernel='linear') \n",
    "model.fit(train_vectors, train_label) \n",
    "prediction = model.predict(test_vectors)"
   ]
  },
  {
   "cell_type": "code",
   "execution_count": null,
   "metadata": {},
   "outputs": [],
   "source": [
    "# print results\n",
    "print (classification_report(test_label, prediction))"
   ]
  },
  {
   "cell_type": "code",
   "execution_count": null,
   "metadata": {},
   "outputs": [],
   "source": [
    "df2=pd.read_csv(\"/Users/yuesongyang/Desktop/NDSC/test.csv\")"
   ]
  },
  {
   "cell_type": "code",
   "execution_count": null,
   "metadata": {},
   "outputs": [],
   "source": [
    "df2.head(5)"
   ]
  },
  {
   "cell_type": "code",
   "execution_count": null,
   "metadata": {},
   "outputs": [],
   "source": [
    "df2.shape"
   ]
  },
  {
   "cell_type": "code",
   "execution_count": null,
   "metadata": {},
   "outputs": [],
   "source": [
    "df2_train_data=df2.title"
   ]
  },
  {
   "cell_type": "code",
   "execution_count": null,
   "metadata": {},
   "outputs": [],
   "source": [
    "# preduct the test set\n",
    "df2_test_vectors = vectorizer.transform(df2_train_data)\n",
    "prediction = model.predict(df2_test_vectors)"
   ]
  },
  {
   "cell_type": "code",
   "execution_count": null,
   "metadata": {},
   "outputs": [],
   "source": [
    "print(prediction[0:10])"
   ]
  },
  {
   "cell_type": "code",
   "execution_count": null,
   "metadata": {},
   "outputs": [],
   "source": [
    "df2[\"Category\"]=prediction"
   ]
  },
  {
   "cell_type": "code",
   "execution_count": null,
   "metadata": {},
   "outputs": [],
   "source": [
    "df2.head(5)"
   ]
  },
  {
   "cell_type": "code",
   "execution_count": null,
   "metadata": {},
   "outputs": [],
   "source": [
    "# configure the structure as required\n",
    "result= df2[['itemid','Category']]"
   ]
  },
  {
   "cell_type": "code",
   "execution_count": null,
   "metadata": {},
   "outputs": [],
   "source": [
    "result.head(10)"
   ]
  },
  {
   "cell_type": "code",
   "execution_count": null,
   "metadata": {},
   "outputs": [],
   "source": [
    "result.Category.unique()"
   ]
  },
  {
   "cell_type": "code",
   "execution_count": null,
   "metadata": {},
   "outputs": [],
   "source": [
    "result.to_csv('submission.csv', index=False)"
   ]
  },
  {
   "cell_type": "code",
   "execution_count": null,
   "metadata": {},
   "outputs": [],
   "source": []
  },
  {
   "cell_type": "code",
   "execution_count": null,
   "metadata": {},
   "outputs": [],
   "source": []
  },
  {
   "cell_type": "code",
   "execution_count": null,
   "metadata": {},
   "outputs": [],
   "source": []
  },
  {
   "cell_type": "code",
   "execution_count": 25,
   "metadata": {},
   "outputs": [],
   "source": [
    "# sample some rows for training, dataset too big to train locally\n",
    "train_df=df.sample(frac=0.0005)\n",
    "# sample validation data set\n",
    "test_df=df.sample(frac=0.00003)"
   ]
  },
  {
   "cell_type": "code",
   "execution_count": 26,
   "metadata": {},
   "outputs": [
    {
     "data": {
      "text/html": [
       "<div>\n",
       "<style scoped>\n",
       "    .dataframe tbody tr th:only-of-type {\n",
       "        vertical-align: middle;\n",
       "    }\n",
       "\n",
       "    .dataframe tbody tr th {\n",
       "        vertical-align: top;\n",
       "    }\n",
       "\n",
       "    .dataframe thead th {\n",
       "        text-align: right;\n",
       "    }\n",
       "</style>\n",
       "<table border=\"1\" class=\"dataframe\">\n",
       "  <thead>\n",
       "    <tr style=\"text-align: right;\">\n",
       "      <th></th>\n",
       "      <th>itemid</th>\n",
       "      <th>title</th>\n",
       "      <th>Category</th>\n",
       "      <th>image_path</th>\n",
       "    </tr>\n",
       "  </thead>\n",
       "  <tbody>\n",
       "    <tr>\n",
       "      <th>88818</th>\n",
       "      <td>1786261325</td>\n",
       "      <td>dijual cepat bb cushion wardah</td>\n",
       "      <td>4</td>\n",
       "      <td>beauty_image/318966bcc1567397ede9c97638d1adb3.jpg</td>\n",
       "    </tr>\n",
       "    <tr>\n",
       "      <th>327863</th>\n",
       "      <td>1511974545</td>\n",
       "      <td>beauty s dress tanpa lengan motif print natal ...</td>\n",
       "      <td>18</td>\n",
       "      <td>fashion_image/6ca504a75b74bcb7f1fdc5eb4531beac</td>\n",
       "    </tr>\n",
       "    <tr>\n",
       "      <th>136097</th>\n",
       "      <td>2575044</td>\n",
       "      <td>etude house cc cream</td>\n",
       "      <td>5</td>\n",
       "      <td>beauty_image/22c145eb30e95ac5026a084e47e7f431.jpg</td>\n",
       "    </tr>\n",
       "    <tr>\n",
       "      <th>20294</th>\n",
       "      <td>1575207543</td>\n",
       "      <td>natural green raspberry cleansing oil</td>\n",
       "      <td>1</td>\n",
       "      <td>beauty_image/2085e20907a53725badc5c8de83391a6.jpg</td>\n",
       "    </tr>\n",
       "    <tr>\n",
       "      <th>625066</th>\n",
       "      <td>844263048</td>\n",
       "      <td>terlaris iphone 6 32gb garansi ibox new</td>\n",
       "      <td>35</td>\n",
       "      <td>mobile_image/95e4bd9ed63a74b16200ec458d2a8b76.jpg</td>\n",
       "    </tr>\n",
       "  </tbody>\n",
       "</table>\n",
       "</div>"
      ],
      "text/plain": [
       "            itemid                                              title  \\\n",
       "88818   1786261325                     dijual cepat bb cushion wardah   \n",
       "327863  1511974545  beauty s dress tanpa lengan motif print natal ...   \n",
       "136097     2575044                               etude house cc cream   \n",
       "20294   1575207543              natural green raspberry cleansing oil   \n",
       "625066   844263048            terlaris iphone 6 32gb garansi ibox new   \n",
       "\n",
       "       Category                                         image_path  \n",
       "88818         4  beauty_image/318966bcc1567397ede9c97638d1adb3.jpg  \n",
       "327863       18     fashion_image/6ca504a75b74bcb7f1fdc5eb4531beac  \n",
       "136097        5  beauty_image/22c145eb30e95ac5026a084e47e7f431.jpg  \n",
       "20294         1  beauty_image/2085e20907a53725badc5c8de83391a6.jpg  \n",
       "625066       35  mobile_image/95e4bd9ed63a74b16200ec458d2a8b76.jpg  "
      ]
     },
     "execution_count": 26,
     "metadata": {},
     "output_type": "execute_result"
    }
   ],
   "source": [
    "train_df.head()"
   ]
  },
  {
   "cell_type": "code",
   "execution_count": 27,
   "metadata": {},
   "outputs": [],
   "source": [
    "feature=train_df['title'].tolist()"
   ]
  },
  {
   "cell_type": "code",
   "execution_count": 28,
   "metadata": {},
   "outputs": [
    {
     "data": {
      "text/plain": [
       "333"
      ]
     },
     "execution_count": 28,
     "metadata": {},
     "output_type": "execute_result"
    }
   ],
   "source": [
    "len(feature)"
   ]
  },
  {
   "cell_type": "code",
   "execution_count": 29,
   "metadata": {},
   "outputs": [],
   "source": [
    "label=train_df['Category'].tolist()"
   ]
  },
  {
   "cell_type": "code",
   "execution_count": 30,
   "metadata": {},
   "outputs": [],
   "source": [
    "training_corpus=[]\n",
    "for i in range (0,len(label)):\n",
    "    training_corpus.append((feature[i],label[i]))"
   ]
  },
  {
   "cell_type": "code",
   "execution_count": 31,
   "metadata": {},
   "outputs": [
    {
     "data": {
      "text/plain": [
       "[('dijual cepat bb cushion wardah', 4),\n",
       " ('beauty s dress tanpa lengan motif print natal ada ukuran besar', 18),\n",
       " ('etude house cc cream', 5),\n",
       " ('natural green raspberry cleansing oil', 1),\n",
       " ('terlaris iphone 6 32gb garansi ibox new', 35),\n",
       " ('dress maxi v neck lengan pendek motif bunga aksen tali pinggang untuk wanita',\n",
       "  20),\n",
       " ('dress wanita model off shoulder bahan sifon versi korea untuk pantai', 21),\n",
       " ('gaun midi casual wanita lengan pendek dengan potongan a line motif floral dan bergaya retro',\n",
       "  18),\n",
       " ('dress midi bodycon bandage sexy elegan lengan panjang elastis', 18),\n",
       " ('mirabella chic twcj', 3),\n",
       " ('kertas minyak clean clear kode el0836 za', 4),\n",
       " ('ready iphone 6 64 gb garansi distributor', 31),\n",
       " ('kusus hari ini laneige bb cushion pore control spf 50+pa diskon', 5),\n",
       " ('samsung j6 garansi resmi', 35),\n",
       " ('bless face powder beige 25 gr', 3),\n",
       " ('iphone 7 32gb mulus seken original bergaransi', 31),\n",
       " ('promo diskon murah oppo f7 pro ram 6gb rom 128gb garansi resmi bisa all indonesia',\n",
       "  41),\n",
       " ('dress tuff silk premium party', 19),\n",
       " ('dijual precious flower bright bb cream spf30 40g yellow 1 a 3 murah', 5),\n",
       " ('iphone 5s 64gb new segel gold asli ori dan gransi apple', 31),\n",
       " ('murah laneige layering cover cushion qr0189', 5),\n",
       " ('oriflame studio artist cream blush', 2),\n",
       " ('viva collagen night cream 22gr', 5),\n",
       " ('catrice velvet brow powder artist', 3),\n",
       " ('sale champ women edt natural spray 100 ml diskon', 4),\n",
       " ('realme 2 3gb 32gb garansi resmi', 51),\n",
       " ('cream white flek 1', 4),\n",
       " ('makeover hydrating serum', 9),\n",
       " ('nokia 216 dual sim garansi resmi blue', 38),\n",
       " ('termurah theraskin skin white serum original', 4),\n",
       " ('laneige clear c peeling mask', 4),\n",
       " ('laneige bb cushion', 3),\n",
       " ('9.9 diskon iphone 5s 16gb space gray grey fullset mulus 99 ex internasional limited',\n",
       "  31),\n",
       " ('bb cream dengan 3 pilihan warna', 5),\n",
       " ('terbaru atasan pesta betty top gray wanita lengan pendek loose motif', 26),\n",
       " ('termurah women sexy beach floral pattern high slit boho bohemia maxi long skirt',\n",
       "  20),\n",
       " ('stok terakhir sarange natural finisher pact powder beige original korea grosir',\n",
       "  1),\n",
       " ('oppo a57', 41),\n",
       " ('whatsapp 62 821 9901 8710 wa:083166084884 khusus promo hari ini beli 2 gratis vivo v5',\n",
       "  42),\n",
       " ('asus bluray writer internal bw 16d1ht speed 16x silahkan dipesan', 43),\n",
       " ('women makeup setting spray 50ml matte finish bottle oil control moisturizer',\n",
       "  1),\n",
       " ('ready stok bedak glansie brightening translucent loose powder', 3),\n",
       " ('fashion women summer floral beach dress evening cocktail party long maxi',\n",
       "  20),\n",
       " ('city color intense exposure highlighting powder', 8),\n",
       " ('blus lengan panjang polos', 26),\n",
       " ('tony moly pure eco snail moisture gel', 13),\n",
       " ('evercoss genpro x pro s50 dual camera 3 32 gb', 44),\n",
       " ('samsung galaxy s6 32gb bekas mulus', 32),\n",
       " ('buruan dapetin air cushion foundation mineral botanica', 1),\n",
       " ('sweater kaos lengan panjang motif print santa claus untuk pasangan pria wanita',\n",
       "  25),\n",
       " ('blus lengan panjang model off shoulder loose dengan simpul tali', 28),\n",
       " ('blush on original merk lancome jual 380wrn no10 rose belinya 530rb masih ada tag harga metro',\n",
       "  2),\n",
       " ('terlaris wardah exclusive twc no 5 coffee beige murah', 3),\n",
       " ('big promo vivo y81 ram 3 internal 32gb', 42),\n",
       " ('face cosmetics contour skin brighten powder high light shadow facial care makeup',\n",
       "  6),\n",
       " ('spigen neo hybrid samsung galaxy s6 g920f champagne gold', 32),\n",
       " ('3ce drawing lip pen butter pink', 12),\n",
       " ('oppo f3 black new bisa dikredit proses cepat murah dan syarat gampang dengan homecredit',\n",
       "  41),\n",
       " ('diskon ertos cc cream whitening pemutih alami dan halal kpw 147 qr0211', 5),\n",
       " ('make over translucent powder 35 gram', 3),\n",
       " ('kaos stripe tee lengan panjang', 25),\n",
       " ('bayar di tempat set eyeshadow matte tahan lama 18 warna', 5),\n",
       " ('kaos hoodie v neck lengan pendek untuk musim panas', 26),\n",
       " ('cream hn crystal murah', 4),\n",
       " ('redmi 5plus 4 64 black garansi tam', 34),\n",
       " ('dress bodycon bandage mini model off shoulder slim untuk pesta cocktail malam',\n",
       "  22),\n",
       " ('kemasan baru wardah acnederm face powder', 3),\n",
       " ('translucent matifying powder 83101 e.l.f', 3),\n",
       " ('korean version spring autumn women long sleeved lace dress stitching pu leather slim 8591',\n",
       "  18),\n",
       " ('ertos sunscreen gel sun screen sunblock pelindung matahari', 5),\n",
       " ('dijual shiseido bb cream spf 30 tester ori termurah', 5),\n",
       " ('moodmatcher 12 hour lip color green baru berkualitas', 12),\n",
       " ('wholesale t shirt harajuku summer korean girls stitching casual tee tops letter',\n",
       "  25),\n",
       " ('big promo best seller oppo a3s ram 3 32 garansi resmi indonesia 1th ungu barang ready stock',\n",
       "  41),\n",
       " ('promo bioaqua bb cream 30ml', 5),\n",
       " ('strawberry st98 star dual sim garansi 1 tahun', 50),\n",
       " ('gaun maxi wanita dengan model off shoulder dan motif floral untuk musim panas',\n",
       "  20),\n",
       " ('cs palet blush on anti air tahan lama untuk wanita', 2),\n",
       " ('promo ready ipho x 10 256gb original apple iphone 256 gb wa 081355712677',\n",
       "  31),\n",
       " ('memang hits nillkin hard case synthetic fiber for apple iphone 6 6s black',\n",
       "  31),\n",
       " ('diskon wifi antena signal flex sony xperia z3 l55t l55w d6603 d6643 d6653 laris 0402',\n",
       "  33),\n",
       " ('cream hn cristal 15gr', 4),\n",
       " ('pakaian wanita gaun dress sifon tanpa lengan cutting bawah tidak rata kerah o',\n",
       "  21),\n",
       " ('mini wrap dress maxi plain polos bohemian', 18),\n",
       " ('chanel cc cream original', 5),\n",
       " ('sharp aquos 305 crystal miui edition', 48),\n",
       " ('the body shop loose powder shade 02', 3),\n",
       " ('promo diskon lengkap terjamin hot infinix smart 2 x5515f', 35),\n",
       " ('wet n wild cherry bomb', 12),\n",
       " ('dress penutup bikini tanpa lengan bahan sifon', 18),\n",
       " ('kaos lengan pendek v neck polos maron', 25),\n",
       " ('termurah max factor facefinity compact foundation spf 15', 3),\n",
       " ('blus wanita off shoulder sabrina lengan pendek ruffle gaya korea untuk musim panas',\n",
       "  26),\n",
       " ('gaun bodycon wanita model hollow out tanpa lengan dengan kerah v neck dan warna polos bergaya sexy',\n",
       "  20),\n",
       " ('2018 women s v neck irregular t shirt fashion long sleeve blouse tops', 26),\n",
       " ('vivo v11 pro 6gb 64gb resmi 1 tahun', 42),\n",
       " ('21 color long bridesmaid dresses the bride lace sleeveless banquet party gown custom plus size',\n",
       "  18),\n",
       " ('harga grosir beauty creations large face definer use for powder rc01', 4),\n",
       " ('oppo a57', 41),\n",
       " ('zoya natural white two way cake sand', 3),\n",
       " ('zyrex zc 388 new dualsim garansi resmi 1 tahun', 35),\n",
       " ('tank top kamisol tanpa lengan motif print leopard', 28),\n",
       " ('dress mini model backless renda dengan sayap malaikat warna polos', 22),\n",
       " ('oppo f5', 41),\n",
       " ('peripera ink lasting pink cushion', 5),\n",
       " ('diskon innisfree no sebum mineral powder', 3),\n",
       " ('ready stok nyx s126 bohemian chic nude matte collection', 0),\n",
       " ('wardah lightening bb cream 30ml', 5),\n",
       " ('terpopuler gove soap sabun natural 100 riginal', 4),\n",
       " ('cs focallure bedak wajah oil control anti air', 11),\n",
       " ('missha x line sally cushion', 1),\n",
       " ('sl fashion women sexy chiffon dress long sleeve casual split shirt v neck summer spring dresses plu',\n",
       "  20),\n",
       " ('dress mini tanpa lengan model bahu off shoulder hollow out bahan suede',\n",
       "  22),\n",
       " ('vivo y53 grs resmi', 42),\n",
       " ('the face shop oil clear smooth bright pact', 3),\n",
       " ('c1s gaun pantai maxi fashion wanita tanpa lengan motif garis patchwork kasual potongan ramping',\n",
       "  20),\n",
       " ('ultima ii face light preloved', 3),\n",
       " ('samsung b310e phyton sein garansi resmi', 32),\n",
       " ('special clinique blended face powder brush 08 transparency neutral 35gr best seller',\n",
       "  3),\n",
       " ('bb cushion maybelline shades 03 natural', 5),\n",
       " ('termurah gaun pesta wanita natal dress tile brokat scuba import maroon',\n",
       "  18),\n",
       " ('chiffon hem green sexy', 18),\n",
       " ('etude house precious mineral bb cream moist spf50 pa', 5),\n",
       " ('terbukti etude house zero sebum drying powder', 3),\n",
       " ('redmi 6a 2 16 dus merah', 34),\n",
       " ('berkualitas loreal paris new bb cream youth code', 9),\n",
       " ('top etude play 101 stick color contour duo terlaris', 6),\n",
       " ('novo face make up smooth cream blush on shading', 2),\n",
       " ('perawatan wajah cosrx one step pimple clear pad terbaru', 4),\n",
       " ('dress party brokat red', 19),\n",
       " ('5d full tempered glass oppo f3', 41),\n",
       " ('pigeon compact powder hypoallergenic white', 3),\n",
       " ('sweater kaos hoodie lengan panjang casual bahan velvet tebal hangat untuk wanita',\n",
       "  25),\n",
       " ('promo akhir tahun samsung s8 plus', 32),\n",
       " ('yoins gaun mini bodycon wanita dengan tali halter dan bahan lace motif floral bigbang',\n",
       "  18),\n",
       " ('cream hn original 15gr', 4),\n",
       " ('fashion sexy women tank top vest deep v neck sleeveless loose summer beachwear tops',\n",
       "  26),\n",
       " ('xiomi redmi 4 2 16', 34),\n",
       " ('dress wanita elegan lengan panjang model o neck motif print garis bunga untuk musim gugur',\n",
       "  18),\n",
       " ('stok baru etude house precious mineral bb cream matte petal make up wajah',\n",
       "  5),\n",
       " ('diskon 40 blackberry z10 4g garansi distributor terlaris', 36),\n",
       " ('harga special kakak theraskin loose powder acne kn', 3),\n",
       " ('wardah everyday luminous face powder', 3),\n",
       " ('infinix note 4 ram 3 32gb garansi resmi', 35),\n",
       " ('60 sq hneck blouse wanita hitam l modis trendi simple elegan murah polos imut lucu sexy dalaman',\n",
       "  27),\n",
       " ('dermablend cover creme full coverage foundation natural beige', 1),\n",
       " ('cuci gudang catrice high glow mineral highlighting powder 010 light infusion promo',\n",
       "  11),\n",
       " ('samsung galaxy s5 4g lecet parah', 35),\n",
       " ('dress sexy model high waist bahan lace untuk musim panas', 20),\n",
       " ('habisin stock skinmtx u002f skin mtx bb cream smart shield prime protector spf 50 termurah flash',\n",
       "  5),\n",
       " ('mini dress mermaid v neck lengan pendek party gaun simple wanita s82 keren',\n",
       "  20),\n",
       " ('promo lcd nokia asha 501 502 503', 38),\n",
       " ('pesta promo beli 2 gratis 1 po vivo xplay 5 ram 4gb rom 128gb', 42),\n",
       " ('acne series cream moist night', 5),\n",
       " ('sharp r1s ram 3gb', 35),\n",
       " ('miss rose 10g women bronzer highlighter makeup powder face contour', 6),\n",
       " ('super murah paling kualitas oke habisin stok fanbo classic gloria 5 pancake powder bedak',\n",
       "  3),\n",
       " ('bayar di tempat dress casual elegan lengan pendek model high waist motif print bunga',\n",
       "  18),\n",
       " ('dress model round neck off shoulder print bunga untuk wanita', 21),\n",
       " ('hot promo nokia 105 new 2017 dual sim garansi resmi putih', 38),\n",
       " ('wardah dd cream c defence spf 30 20ml', 5),\n",
       " ('sweater rajut slim v neck silang lengan panjang warna polos untuk wanita',\n",
       "  25),\n",
       " ('new fashion cute blouse atasan blus pesta cewek putih hitam polos import murah stylish',\n",
       "  26),\n",
       " ('30939 mixed denim sweet dress pesta mini biru putih', 17),\n",
       " ('diskon skinfood white grape fresh foundation special price', 1),\n",
       " ('kondisi 75 make over foundation no 03 nude silk', 1),\n",
       " ('ready ultima ii delicate creme powder make up 13g', 3),\n",
       " ('tank top slim tanpa lengan bahan katun aksen renda aneka warna polos untuk wanita',\n",
       "  26),\n",
       " ('blus wanita casual lengan panjang model round neck longgar bahan sifon versi eropa amerika',\n",
       "  29),\n",
       " ('big discount the face shop oil control water cushion', 1),\n",
       " ('gamis jersey embos emboss maxi longdress pesta baju muslim wanita', 20),\n",
       " ('original innisfree white pore facial cleanser 150ml skon', 4),\n",
       " ('medicube red capsule cushion', 3),\n",
       " ('kaos t shirt korea lengan pendek motif print tulisan bahan katun', 25),\n",
       " ('bnob huawei p9 leica gold 4gb ram 64gb rom', 35),\n",
       " ('free ongkir kain satin saten untuk gaun baju pesta gamis', 20),\n",
       " ('short sleeves pink flower blouse hmp blus lengan pendek floral', 26),\n",
       " ('oppo f5 red edition 6 64gb garansi resmi indonesia 1 thn', 41),\n",
       " ('kaos t shirt casual wanita model backless lengan panjang dengan bahan katun warna polos bergaya sexy',\n",
       "  25),\n",
       " ('maybelline fit me pressed powder', 3),\n",
       " ('gamis brokat pesta murah dress muslim baju kondangan tessae syari', 20),\n",
       " ('advan s50g 4g lte', 35),\n",
       " ('skinfood buckwheat loose powder', 3),\n",
       " ('harga special kak cream cr krim kemasan pink', 5),\n",
       " ('bayar di tempat blus sifon wanita o neck dengan tali pita lengan panjang flare lipit i.8497368.5086',\n",
       "  26),\n",
       " ('paling laku wardah exclusive liquid foundation murah', 1),\n",
       " ('stok terakhir ertos baked powder all in 1 bedak diskon', 3),\n",
       " ('sabrina dress stripe garis murah gaun salur korea simple wanita vo84dbkrr bordir korean river',\n",
       "  18),\n",
       " ('jafra royal jelly radiance foundation broad spectrum spf 20', 1),\n",
       " ('case for sony xperia xz2 compact 5.0 inch slim black matte hardcase', 35),\n",
       " ('jual lcd touchscreen hitam asus zenfone 6 original berkualitas', 31),\n",
       " ('women s embroidery long knit dress bottoming plus velvet warm vest skirt ageing',\n",
       "  26),\n",
       " ('fresh etude house precious mineral bb cream bright fit spf 30 pa make up wajah',\n",
       "  5),\n",
       " ('samsung galaxy note 4 fullset murah', 32),\n",
       " ('tank top kamisol tanpa lengan motif bunga bahan sifon', 28),\n",
       " ('termurah laneige bb cushion whitening case+cushion', 3),\n",
       " ('set70 kaos polo shirt wanita lengan panjang cewek', 25),\n",
       " ('sale aep flannel plaid shirt kemeja lengan panjang', 27),\n",
       " ('blush on emina cosmetic cheek lit cream terlaris', 2),\n",
       " ('emina cheeklit powder blush', 2),\n",
       " ('jual inez satin smooth liquid foundation 40 aw lightening 41 murah', 1),\n",
       " ('atasan wanita blouse tanpa lengan strip merah putih import', 26),\n",
       " ('samsung note 9 128gb garansi sein', 32),\n",
       " ('women long sleeve knitted sweater dresses high neck ladies side split mini dress',\n",
       "  18),\n",
       " ('terlaris catrice liquid camouflage high coverage concealer grosir', 7),\n",
       " ('produk awal tahun chriatian dior eyeshadow belu dipakai beli salah warna 1jtan',\n",
       "  0),\n",
       " ('beli 2 gratis 1 promo cuci gudang diskon 80 wa 62819 4542 7666 big vivo v9 garansi',\n",
       "  42),\n",
       " ('v neck pineapple print romper', 19),\n",
       " ('original cushion bioaqua gold', 5),\n",
       " ('xiaomi mi4c ram 3 32gb', 34),\n",
       " ('the body shop bb cream', 5),\n",
       " ('andromax prime', 53),\n",
       " ('nyx soft matte lip cream smlc15 athens 100 ori usa', 12),\n",
       " ('hot kaos polo shirt polosan wanita lengan panjang', 25),\n",
       " ('terlaris estee lauder double wear bb cushion shade tawny and sand limited stock',\n",
       "  5),\n",
       " ('promo samsung galaxy s8 original nillkin tempered glass 3d cp+max', 32),\n",
       " ('bra korea bahan lace warna polos untuk wanita musim semi panas', 25),\n",
       " ('etude house zero sebum drying powder', 3),\n",
       " ('coverderm luminous make up cover spf 15 30 ml', 4),\n",
       " ('laneige water glow base corrector spf 41 3 color trial kit', 9),\n",
       " ('atk34 wardah white secret day cream 30gr', 4),\n",
       " ('ladies shop long chiffon kimon summer bohemian cardigan floral printed shawl',\n",
       "  20),\n",
       " ('samsung galaxy j1 mini sm j105f 4g 8gb', 32),\n",
       " ('blus sifon basic casual motif garis untuk musim panas ada ukuran besar',\n",
       "  26),\n",
       " ('cc intense cover cushion miracle finish the face shop', 3),\n",
       " ('women lace floral casual short sleeve evening cocktail party mini dress',\n",
       "  18),\n",
       " ('asus zenfone max plus', 43),\n",
       " ('vivo v9 black', 42),\n",
       " ('mac next to nothing face color shade light sold via ig', 5),\n",
       " ('paket normal brightening step 1 ms glow murah', 4),\n",
       " ('promo akhir bulan vivo v5s 4 64gb garansi resmi cuci gudang', 42),\n",
       " ('blus v neck lengan panjang bahan sifon warna polos gaya korea untuk wanita',\n",
       "  18),\n",
       " ('baju pesta brokat qittara 2981', 20),\n",
       " ('diskon kosmetik etude house precious mineral bb cream moist vanilla spf50 pa',\n",
       "  5),\n",
       " ('paula choice resist smoothing primer serum spf 30 trial size', 9),\n",
       " ('city color shimmer highlight white pearl', 8),\n",
       " ('20g effictive remove acne moisturizing cream scar facial blackhead', 7),\n",
       " ('giordani gold age defying foundation spf 8', 1),\n",
       " ('sm sexy ladies backless long sleeve bodycon women stripe slim fit autumn mini dress',\n",
       "  18),\n",
       " ('etude house berry delicious any cushion', 5),\n",
       " ('100 original jual kepala magnetic adapter lightning type c micro usb iphone diskon',\n",
       "  32),\n",
       " ('kaos t shirt v neck lengan panjang slim fit warna polos', 18),\n",
       " ('baju dress pesta wanita lace full putih navy style korea import murah', 19),\n",
       " ('blouse basic stripe full kancing depan wolfis terbaru', 26),\n",
       " ('milani conceal perfect 2 in 1 foundation medium beige bagus', 1),\n",
       " ('lyprerazy dress maxi sifon one shoulder lengan 3 4 motif print elegan dengan pita pinggang',\n",
       "  21),\n",
       " ('vivo v5 20megapixel', 42),\n",
       " ('termurah wardah exclusive liquid foundation', 1),\n",
       " ('ready stock di jamin 100 asli original vivo v9pro ram 6 rom 64gb garansi resmi 2 tahun warna',\n",
       "  35),\n",
       " ('c8 highlighter cair warna shimmer', 8),\n",
       " ('natural protection day cream oily skin 15g pump ocean fresh', 5),\n",
       " ('pembayaran shopee oppo f1s', 41),\n",
       " ('missha m signature real complete b.b cream sample', 5),\n",
       " ('promo super g4n2 inez luscious liquid lipstick halal f7m1', 12),\n",
       " ('sharp aquos 32gb 4g second mulus', 35),\n",
       " ('the matte velvet foundation spf 20', 1),\n",
       " ('dress sexy model off shoulder print daun lotus dengan tali spaghetti', 20),\n",
       " ('ysl rouge volupte shine rvs oil in stick lipstick promo', 12),\n",
       " ('dress brukat full furing megar span flare brokat karet belakang party pesta gaun cewek wanita',\n",
       "  19),\n",
       " ('bedak padat bioaqua pressed powder', 3),\n",
       " ('wardah everyday luminous face powder', 3),\n",
       " ('spot 2018 spring and summer new korean wild casual red white striped', 25),\n",
       " ('laneige bb cushion whitening', 3),\n",
       " ('termurah bioaqua smooth cushion muscle flawless blush on qr0510', 2),\n",
       " ('lt summer women sexy tops floral printed off shoulder half sleeve tie casual blouse',\n",
       "  26),\n",
       " ('contouring spons bb cream beauty blender sponge', 1),\n",
       " ('nars lip cream', 12),\n",
       " ('bedak tabur bb ponds magic powder thailand', 3),\n",
       " ('sweater rajut wanita casual lengan panjang model o neck longgar untuk musim semi gugur',\n",
       "  26),\n",
       " ('etude house fresh cherry tint', 14),\n",
       " ('hot sale basic maxi long dress spandek rayon black edition', 18),\n",
       " ('terlarisss revlon natural finish powdery foundation 15gr', 1),\n",
       " ('dress sexy casual model off shoulder ada ukuran besar', 20),\n",
       " ('promo serba murah cuci gudang beli 2 gratis 1 vivo y69 ram 3 32gb kamera 16mp',\n",
       "  42),\n",
       " ('bedak padat dan tabur jafra', 3),\n",
       " ('led cover samsung galaxy note 8', 32),\n",
       " ('new anastasia clear brow gel travel size', 4),\n",
       " ('wet n wild megaglo highlighting powder', 3),\n",
       " ('koleksi inez bedak refill twc precious powdery cake segera miliki barang ini',\n",
       "  3),\n",
       " ('kaos fila polyester dewasa polos', 25),\n",
       " ('dress perspective tanpa lengan motif bordir bunga bahan lace 2628', 20),\n",
       " ('sulwhasoo essential concealer stick 5g wk h 58 1 2', 7),\n",
       " ('new krim hn original 30gr cream ori', 4),\n",
       " ('stock terbatas etude house precious mineral bb cream moist murah promo ramadhan',\n",
       "  5),\n",
       " ('dress retro wanita model slim off shoulder kemben motif print bunga', 17),\n",
       " ('brush bedak foundation kosmetik makeup wanita bentuk kipas warna coklat gagang panjang',\n",
       "  7),\n",
       " ('ifas rok skater retro vintage motif print digital starry night untuk wanita',\n",
       "  18),\n",
       " ('dijual super bb cushion maybelline original murah', 5),\n",
       " ('baju pesta party dress mini short graduation dresses 2018 cheap red satin st',\n",
       "  19),\n",
       " ('dress model korea motif print bahan sifon', 21),\n",
       " ('fbl8847 blouse pelum cantik stripe v neck modis kekinian jaman now anggun formal mewah',\n",
       "  26),\n",
       " ('lcd 1set xiaomi redmi 4 original gold', 34),\n",
       " ('dress bodycon model off shoulder motif print bunga', 18),\n",
       " ('bedak bioaqua', 3),\n",
       " ('sweater hoodie lengan panjang motif print leopard gaya korea untuk wanita',\n",
       "  24),\n",
       " ('eksklusif xiaomi note 5 a redmi 5a gold garansi tam bonus case best seler',\n",
       "  35),\n",
       " ('wao83137567637 wa 085774646811 promo khusus bulan ini beli 2 gratis 1 vivo y55s ram 16 13 mp',\n",
       "  42),\n",
       " ('pond s magic powder ponds angel face ori thai', 3),\n",
       " ('kaos t shirt casual wanita model split tanpa lengan dengan kerah o neck dan potongan asimetris',\n",
       "  25),\n",
       " ('dress princess model renda untuk pesta pernikahan', 23),\n",
       " ('iny 2018 gaun maxi wanita dengan model lengan panjang dan bergaya boho untuk pesta cocktail malam',\n",
       "  20),\n",
       " ('moreskin loose powder', 3),\n",
       " ('mizzu alter ego contour highlight kit rose palette', 8),\n",
       " ('day cream hpai', 1),\n",
       " ('ultima ii moisture lotion for normal skin', 9),\n",
       " ('marcks bedak tabur active beauty 20gr', 3),\n",
       " ('terlaris rollover reaction rosate glow halolight luminizing stick', 2),\n",
       " ('kaos t shirt v neck lengan panjang model longgar motif print untuk musim gugur',\n",
       "  25),\n",
       " ('palet blush on powder warna monokrom gradasi', 2),\n",
       " ('loose powder ms glow', 3),\n",
       " ('terlaris milani rose powder blush romantic termurah promo ramadhan', 2),\n",
       " ('olay age protect anti ageing cream 18gr', 4),\n",
       " ('clinique dramatically different hydrating jelly ddhj', 4),\n",
       " ('o.i dress bodycon selutut deep v neck tanpa lengan model cut out hollow sexy warna putih',\n",
       "  18),\n",
       " ('dress pesta model lengan panjang gaya korea elegan bahan lace warna merah untuk wanita',\n",
       "  18),\n",
       " ('diskon innisfree bedak pengontrol sebum no mineral powder 5g', 3),\n",
       " ('kosmetik milenial hydrating aloe vera gel wardah cosmetics', 4),\n",
       " ('iphone 6 gold 128gb 6.500.000', 31),\n",
       " ('bedak oriflame very me no time for shine powder', 3),\n",
       " ('tank top o neck tanpa lengan bahan sutra untuk musim panas', 28),\n",
       " ('jaket wanita dengan model potongan longgar lengan panjang dan kerah v neck bergaya retro',\n",
       "  18),\n",
       " ('bedak v natural temulawak two way cake vnatural compact powder bpom termurah god',\n",
       "  3),\n",
       " ('terbaru gaun baju merah tua wanita brokat lace brocade red party dress import',\n",
       "  17),\n",
       " ('o2women s summer sexy see through lace deep v neck long sleeve maxi dress',\n",
       "  18),\n",
       " ('set 2pcs dress midi tanpa lengan model longgar bahan sifon cardigan', 21),\n",
       " ('paling murah cc cream fair n pink original bpom', 5),\n",
       " ('maybelline babyskin instant pink', 9),\n",
       " ('dress mini wanita bodycon o neck lengan panjang aksen lace bunga warna polos untuk musim gugur',\n",
       "  18),\n",
       " ('kerenn boskuu original uag plasma series case samsung galaxy s9 citron',\n",
       "  32),\n",
       " ('asli bosku spigen ultra bridx samsung galaxy note 8 the mover reatestore',\n",
       "  32),\n",
       " ('iphone 5s 16gb gold', 31),\n",
       " ('blus off shoulder ruffle slim bahan sifon warna polos', 28),\n",
       " ('oppo a3s ram 2 gb', 41)]"
      ]
     },
     "execution_count": 31,
     "metadata": {},
     "output_type": "execute_result"
    }
   ],
   "source": [
    "training_corpus"
   ]
  },
  {
   "cell_type": "code",
   "execution_count": 32,
   "metadata": {},
   "outputs": [],
   "source": [
    "from textblob.classifiers import NaiveBayesClassifier as NBC\n",
    "from textblob import TextBlob"
   ]
  },
  {
   "cell_type": "code",
   "execution_count": 33,
   "metadata": {},
   "outputs": [],
   "source": [
    "model = NBC(training_corpus) "
   ]
  },
  {
   "cell_type": "code",
   "execution_count": 34,
   "metadata": {},
   "outputs": [],
   "source": [
    "test_df_data=test_df['title'].tolist()"
   ]
  },
  {
   "cell_type": "code",
   "execution_count": 35,
   "metadata": {},
   "outputs": [],
   "source": [
    "test_df_label=test_df['Category'].tolist()"
   ]
  },
  {
   "cell_type": "code",
   "execution_count": 36,
   "metadata": {},
   "outputs": [],
   "source": [
    "validation_corpus=[]\n",
    "for i in range (0,len(test_df_label)):\n",
    "    validation_corpus.append((test_df_data[i],test_df_label[i]))"
   ]
  },
  {
   "cell_type": "code",
   "execution_count": 37,
   "metadata": {},
   "outputs": [
    {
     "data": {
      "text/plain": [
       "[('natural 99 king set whitening asli grosir', 4),\n",
       " ('nokia dual sim 130 putih', 38),\n",
       " ('xiaomi redmi a2 lite 3 32 garansi resmi tam', 34),\n",
       " ('multiflora women long maxi dresses bohemia v neck three quarter sleeve floral',\n",
       "  18),\n",
       " ('harga termurah eos 214 brown normal only', 4),\n",
       " ('ready termurah lcd iphone x ori new oled screen', 35),\n",
       " ('grosir viva queen refill compact powder', 3),\n",
       " ('hot sale inez 900 lustrous pressed powder bedak padat exclusive paling unik',\n",
       "  3),\n",
       " ('iphone 4 cdma front camera module', 31),\n",
       " ('csz 03 lakme 9 to 5 reinvent p+m compact powder foundation', 3),\n",
       " ('bioaqua perfect make up water beautiful light loose powder 02', 3),\n",
       " ('women bandage bodycon slim sleeveless evening party cocktail pencil mini dress',\n",
       "  22),\n",
       " ('ertos erto s baked powder original bedak', 3),\n",
       " ('dress midi slim fit lengan pendek desain patchwork renda motif natal santa reindeer',\n",
       "  18),\n",
       " ('ready bioaqua soothing gel aloe vera 92 160ml', 4),\n",
       " ('nyx soft matte lip cream ory', 12),\n",
       " ('atasan blus penuh gaya kasual tanpa lengan bahan sifon bermotif', 25),\n",
       " ('win1 blus v neck lengan batwing casual bahan sifon warna polos', 27),\n",
       " ('muzi 17 kaos tanpa lengan bahan velvet tebal nyaman hangat untuk wanita',\n",
       "  25),\n",
       " ('la tulipe refill two function cake 13g', 3)]"
      ]
     },
     "execution_count": 37,
     "metadata": {},
     "output_type": "execute_result"
    }
   ],
   "source": [
    "validation_corpus"
   ]
  },
  {
   "cell_type": "code",
   "execution_count": 38,
   "metadata": {},
   "outputs": [
    {
     "name": "stdout",
     "output_type": "stream",
     "text": [
      "3\n",
      "3\n",
      "3\n",
      "18\n",
      "3\n",
      "3\n",
      "3\n",
      "3\n",
      "3\n",
      "3\n",
      "3\n",
      "18\n",
      "3\n",
      "18\n",
      "3\n",
      "5\n",
      "18\n",
      "18\n",
      "18\n",
      "3\n"
     ]
    }
   ],
   "source": [
    "for i in range (0,len(validation_corpus)):\n",
    "    print(model.classify(validation_corpus[i][0]))"
   ]
  },
  {
   "cell_type": "code",
   "execution_count": null,
   "metadata": {},
   "outputs": [],
   "source": []
  }
 ],
 "metadata": {
  "kernelspec": {
   "display_name": "Python 3",
   "language": "python",
   "name": "python3"
  },
  "language_info": {
   "codemirror_mode": {
    "name": "ipython",
    "version": 3
   },
   "file_extension": ".py",
   "mimetype": "text/x-python",
   "name": "python",
   "nbconvert_exporter": "python",
   "pygments_lexer": "ipython3",
   "version": "3.5.5"
  }
 },
 "nbformat": 4,
 "nbformat_minor": 2
}
